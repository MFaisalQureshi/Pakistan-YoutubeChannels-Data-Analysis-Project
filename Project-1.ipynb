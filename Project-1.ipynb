{
 "cells": [
  {
   "cell_type": "code",
   "execution_count": 1,
   "id": "9c65ce13",
   "metadata": {},
   "outputs": [
    {
     "data": {
      "text/html": [
       "<div>\n",
       "<style scoped>\n",
       "    .dataframe tbody tr th:only-of-type {\n",
       "        vertical-align: middle;\n",
       "    }\n",
       "\n",
       "    .dataframe tbody tr th {\n",
       "        vertical-align: top;\n",
       "    }\n",
       "\n",
       "    .dataframe thead th {\n",
       "        text-align: right;\n",
       "    }\n",
       "</style>\n",
       "<table border=\"1\" class=\"dataframe\">\n",
       "  <thead>\n",
       "    <tr style=\"text-align: right;\">\n",
       "      <th></th>\n",
       "      <th>Top #</th>\n",
       "      <th>Twitter</th>\n",
       "    </tr>\n",
       "  </thead>\n",
       "  <tbody>\n",
       "    <tr>\n",
       "      <th>0</th>\n",
       "      <td>1</td>\n",
       "      <td>ARY Digital,Entertainment,19.2M</td>\n",
       "    </tr>\n",
       "    <tr>\n",
       "      <th>1</th>\n",
       "      <td>2</td>\n",
       "      <td>HAR PAL GEO,Entertainment,14.4M</td>\n",
       "    </tr>\n",
       "    <tr>\n",
       "      <th>2</th>\n",
       "      <td>3</td>\n",
       "      <td>TRT Ertugrul by PTV,Entertainment,12.3M</td>\n",
       "    </tr>\n",
       "    <tr>\n",
       "      <th>3</th>\n",
       "      <td>4</td>\n",
       "      <td>HUM TV,Entertainment,12.2M</td>\n",
       "    </tr>\n",
       "    <tr>\n",
       "      <th>4</th>\n",
       "      <td>5</td>\n",
       "      <td>Coke Studio,Music,9.82M</td>\n",
       "    </tr>\n",
       "    <tr>\n",
       "      <th>...</th>\n",
       "      <td>...</td>\n",
       "      <td>...</td>\n",
       "    </tr>\n",
       "    <tr>\n",
       "      <th>245</th>\n",
       "      <td>246</td>\n",
       "      <td>Masala Tv Recipes,Howto &amp; Style,734K</td>\n",
       "    </tr>\n",
       "    <tr>\n",
       "      <th>246</th>\n",
       "      <td>247</td>\n",
       "      <td>WWF - Pakistan,Nonprofits &amp; Activism,731K</td>\n",
       "    </tr>\n",
       "    <tr>\n",
       "      <th>247</th>\n",
       "      <td>248</td>\n",
       "      <td>AapNewsPK,News &amp; Politics,731K</td>\n",
       "    </tr>\n",
       "    <tr>\n",
       "      <th>248</th>\n",
       "      <td>249</td>\n",
       "      <td>Naeem aw Rameez,Entertainment,729K</td>\n",
       "    </tr>\n",
       "    <tr>\n",
       "      <th>249</th>\n",
       "      <td>250</td>\n",
       "      <td>Zawar Motors,Autos &amp; Vehicles,726K</td>\n",
       "    </tr>\n",
       "  </tbody>\n",
       "</table>\n",
       "<p>250 rows × 2 columns</p>\n",
       "</div>"
      ],
      "text/plain": [
       "     Top #                                   Twitter \n",
       "0        1            ARY Digital,Entertainment,19.2M\n",
       "1        2            HAR PAL GEO,Entertainment,14.4M\n",
       "2        3    TRT Ertugrul by PTV,Entertainment,12.3M\n",
       "3        4                 HUM TV,Entertainment,12.2M\n",
       "4        5                    Coke Studio,Music,9.82M\n",
       "..     ...                                        ...\n",
       "245    246       Masala Tv Recipes,Howto & Style,734K\n",
       "246    247  WWF - Pakistan,Nonprofits & Activism,731K\n",
       "247    248             AapNewsPK,News & Politics,731K\n",
       "248    249         Naeem aw Rameez,Entertainment,729K\n",
       "249    250         Zawar Motors,Autos & Vehicles,726K\n",
       "\n",
       "[250 rows x 2 columns]"
      ]
     },
     "execution_count": 1,
     "metadata": {},
     "output_type": "execute_result"
    }
   ],
   "source": [
    "import pandas as pd\n",
    "import numpy as np\n",
    "import matplotlib.pyplot as plt\n",
    "import seaborn as sns\n",
    "df=pd.read_csv(r'C:\\Users\\faisa\\Documents\\Pakistan Top 250 YouTube Channels.csv')\n",
    "df"
   ]
  },
  {
   "cell_type": "code",
   "execution_count": 2,
   "id": "166e7aac",
   "metadata": {},
   "outputs": [
    {
     "data": {
      "text/html": [
       "<div>\n",
       "<style scoped>\n",
       "    .dataframe tbody tr th:only-of-type {\n",
       "        vertical-align: middle;\n",
       "    }\n",
       "\n",
       "    .dataframe tbody tr th {\n",
       "        vertical-align: top;\n",
       "    }\n",
       "\n",
       "    .dataframe thead th {\n",
       "        text-align: right;\n",
       "    }\n",
       "</style>\n",
       "<table border=\"1\" class=\"dataframe\">\n",
       "  <thead>\n",
       "    <tr style=\"text-align: right;\">\n",
       "      <th></th>\n",
       "      <th>Top #</th>\n",
       "      <th>Twitter</th>\n",
       "    </tr>\n",
       "  </thead>\n",
       "  <tbody>\n",
       "    <tr>\n",
       "      <th>0</th>\n",
       "      <td>1</td>\n",
       "      <td>ARY Digital,Entertainment,19.2M</td>\n",
       "    </tr>\n",
       "    <tr>\n",
       "      <th>1</th>\n",
       "      <td>2</td>\n",
       "      <td>HAR PAL GEO,Entertainment,14.4M</td>\n",
       "    </tr>\n",
       "    <tr>\n",
       "      <th>2</th>\n",
       "      <td>3</td>\n",
       "      <td>TRT Ertugrul by PTV,Entertainment,12.3M</td>\n",
       "    </tr>\n",
       "    <tr>\n",
       "      <th>3</th>\n",
       "      <td>4</td>\n",
       "      <td>HUM TV,Entertainment,12.2M</td>\n",
       "    </tr>\n",
       "    <tr>\n",
       "      <th>4</th>\n",
       "      <td>5</td>\n",
       "      <td>Coke Studio,Music,9.82M</td>\n",
       "    </tr>\n",
       "    <tr>\n",
       "      <th>5</th>\n",
       "      <td>6</td>\n",
       "      <td>Geo News,News &amp; Politics,8.7M</td>\n",
       "    </tr>\n",
       "    <tr>\n",
       "      <th>6</th>\n",
       "      <td>7</td>\n",
       "      <td>AJ Official,Education,7.22M</td>\n",
       "    </tr>\n",
       "    <tr>\n",
       "      <th>7</th>\n",
       "      <td>8</td>\n",
       "      <td>ARY News,News &amp; Politics,6.78M</td>\n",
       "    </tr>\n",
       "    <tr>\n",
       "      <th>8</th>\n",
       "      <td>9</td>\n",
       "      <td>Islamic Teacher Official,Education,6.43M</td>\n",
       "    </tr>\n",
       "    <tr>\n",
       "      <th>9</th>\n",
       "      <td>10</td>\n",
       "      <td>SAMAA TV,News &amp; Politics,6.02M</td>\n",
       "    </tr>\n",
       "  </tbody>\n",
       "</table>\n",
       "</div>"
      ],
      "text/plain": [
       "   Top #                                  Twitter \n",
       "0      1           ARY Digital,Entertainment,19.2M\n",
       "1      2           HAR PAL GEO,Entertainment,14.4M\n",
       "2      3   TRT Ertugrul by PTV,Entertainment,12.3M\n",
       "3      4                HUM TV,Entertainment,12.2M\n",
       "4      5                   Coke Studio,Music,9.82M\n",
       "5      6             Geo News,News & Politics,8.7M\n",
       "6      7               AJ Official,Education,7.22M\n",
       "7      8            ARY News,News & Politics,6.78M\n",
       "8      9  Islamic Teacher Official,Education,6.43M\n",
       "9     10            SAMAA TV,News & Politics,6.02M"
      ]
     },
     "execution_count": 2,
     "metadata": {},
     "output_type": "execute_result"
    }
   ],
   "source": [
    "df.head(10)"
   ]
  },
  {
   "cell_type": "code",
   "execution_count": 3,
   "id": "a88d4027",
   "metadata": {},
   "outputs": [
    {
     "data": {
      "text/plain": [
       "Index(['Top #', 'Twitter '], dtype='object')"
      ]
     },
     "execution_count": 3,
     "metadata": {},
     "output_type": "execute_result"
    }
   ],
   "source": [
    "df.columns"
   ]
  },
  {
   "cell_type": "code",
   "execution_count": 4,
   "id": "c53e1734",
   "metadata": {},
   "outputs": [],
   "source": [
    "df.rename({'Twitter ' :\"Twitter\"},axis=1,inplace=True)\n"
   ]
  },
  {
   "cell_type": "code",
   "execution_count": 5,
   "id": "190fdfc7",
   "metadata": {},
   "outputs": [
    {
     "data": {
      "text/plain": [
       "Index(['Top #', 'Twitter'], dtype='object')"
      ]
     },
     "execution_count": 5,
     "metadata": {},
     "output_type": "execute_result"
    }
   ],
   "source": [
    "df.columns"
   ]
  },
  {
   "cell_type": "code",
   "execution_count": 6,
   "id": "4a6581e9",
   "metadata": {},
   "outputs": [],
   "source": [
    "df[[\"Channel Name\",\"Category\",\"Subscriber\"]]=df['Twitter'].str.split(',',expand=True)"
   ]
  },
  {
   "cell_type": "code",
   "execution_count": 7,
   "id": "a8798f3d",
   "metadata": {},
   "outputs": [
    {
     "data": {
      "text/html": [
       "<div>\n",
       "<style scoped>\n",
       "    .dataframe tbody tr th:only-of-type {\n",
       "        vertical-align: middle;\n",
       "    }\n",
       "\n",
       "    .dataframe tbody tr th {\n",
       "        vertical-align: top;\n",
       "    }\n",
       "\n",
       "    .dataframe thead th {\n",
       "        text-align: right;\n",
       "    }\n",
       "</style>\n",
       "<table border=\"1\" class=\"dataframe\">\n",
       "  <thead>\n",
       "    <tr style=\"text-align: right;\">\n",
       "      <th></th>\n",
       "      <th>Top #</th>\n",
       "      <th>Twitter</th>\n",
       "      <th>Channel Name</th>\n",
       "      <th>Category</th>\n",
       "      <th>Subscriber</th>\n",
       "    </tr>\n",
       "  </thead>\n",
       "  <tbody>\n",
       "    <tr>\n",
       "      <th>0</th>\n",
       "      <td>1</td>\n",
       "      <td>ARY Digital,Entertainment,19.2M</td>\n",
       "      <td>ARY Digital</td>\n",
       "      <td>Entertainment</td>\n",
       "      <td>19.2M</td>\n",
       "    </tr>\n",
       "    <tr>\n",
       "      <th>1</th>\n",
       "      <td>2</td>\n",
       "      <td>HAR PAL GEO,Entertainment,14.4M</td>\n",
       "      <td>HAR PAL GEO</td>\n",
       "      <td>Entertainment</td>\n",
       "      <td>14.4M</td>\n",
       "    </tr>\n",
       "    <tr>\n",
       "      <th>2</th>\n",
       "      <td>3</td>\n",
       "      <td>TRT Ertugrul by PTV,Entertainment,12.3M</td>\n",
       "      <td>TRT Ertugrul by PTV</td>\n",
       "      <td>Entertainment</td>\n",
       "      <td>12.3M</td>\n",
       "    </tr>\n",
       "    <tr>\n",
       "      <th>3</th>\n",
       "      <td>4</td>\n",
       "      <td>HUM TV,Entertainment,12.2M</td>\n",
       "      <td>HUM TV</td>\n",
       "      <td>Entertainment</td>\n",
       "      <td>12.2M</td>\n",
       "    </tr>\n",
       "    <tr>\n",
       "      <th>4</th>\n",
       "      <td>5</td>\n",
       "      <td>Coke Studio,Music,9.82M</td>\n",
       "      <td>Coke Studio</td>\n",
       "      <td>Music</td>\n",
       "      <td>9.82M</td>\n",
       "    </tr>\n",
       "    <tr>\n",
       "      <th>...</th>\n",
       "      <td>...</td>\n",
       "      <td>...</td>\n",
       "      <td>...</td>\n",
       "      <td>...</td>\n",
       "      <td>...</td>\n",
       "    </tr>\n",
       "    <tr>\n",
       "      <th>245</th>\n",
       "      <td>246</td>\n",
       "      <td>Masala Tv Recipes,Howto &amp; Style,734K</td>\n",
       "      <td>Masala Tv Recipes</td>\n",
       "      <td>Howto &amp; Style</td>\n",
       "      <td>734K</td>\n",
       "    </tr>\n",
       "    <tr>\n",
       "      <th>246</th>\n",
       "      <td>247</td>\n",
       "      <td>WWF - Pakistan,Nonprofits &amp; Activism,731K</td>\n",
       "      <td>WWF - Pakistan</td>\n",
       "      <td>Nonprofits &amp; Activism</td>\n",
       "      <td>731K</td>\n",
       "    </tr>\n",
       "    <tr>\n",
       "      <th>247</th>\n",
       "      <td>248</td>\n",
       "      <td>AapNewsPK,News &amp; Politics,731K</td>\n",
       "      <td>AapNewsPK</td>\n",
       "      <td>News &amp; Politics</td>\n",
       "      <td>731K</td>\n",
       "    </tr>\n",
       "    <tr>\n",
       "      <th>248</th>\n",
       "      <td>249</td>\n",
       "      <td>Naeem aw Rameez,Entertainment,729K</td>\n",
       "      <td>Naeem aw Rameez</td>\n",
       "      <td>Entertainment</td>\n",
       "      <td>729K</td>\n",
       "    </tr>\n",
       "    <tr>\n",
       "      <th>249</th>\n",
       "      <td>250</td>\n",
       "      <td>Zawar Motors,Autos &amp; Vehicles,726K</td>\n",
       "      <td>Zawar Motors</td>\n",
       "      <td>Autos &amp; Vehicles</td>\n",
       "      <td>726K</td>\n",
       "    </tr>\n",
       "  </tbody>\n",
       "</table>\n",
       "<p>250 rows × 5 columns</p>\n",
       "</div>"
      ],
      "text/plain": [
       "     Top #                                    Twitter         Channel Name  \\\n",
       "0        1            ARY Digital,Entertainment,19.2M          ARY Digital   \n",
       "1        2            HAR PAL GEO,Entertainment,14.4M          HAR PAL GEO   \n",
       "2        3    TRT Ertugrul by PTV,Entertainment,12.3M  TRT Ertugrul by PTV   \n",
       "3        4                 HUM TV,Entertainment,12.2M               HUM TV   \n",
       "4        5                    Coke Studio,Music,9.82M          Coke Studio   \n",
       "..     ...                                        ...                  ...   \n",
       "245    246       Masala Tv Recipes,Howto & Style,734K    Masala Tv Recipes   \n",
       "246    247  WWF - Pakistan,Nonprofits & Activism,731K       WWF - Pakistan   \n",
       "247    248             AapNewsPK,News & Politics,731K            AapNewsPK   \n",
       "248    249         Naeem aw Rameez,Entertainment,729K      Naeem aw Rameez   \n",
       "249    250         Zawar Motors,Autos & Vehicles,726K         Zawar Motors   \n",
       "\n",
       "                  Category Subscriber  \n",
       "0            Entertainment      19.2M  \n",
       "1            Entertainment      14.4M  \n",
       "2            Entertainment      12.3M  \n",
       "3            Entertainment      12.2M  \n",
       "4                    Music      9.82M  \n",
       "..                     ...        ...  \n",
       "245          Howto & Style       734K  \n",
       "246  Nonprofits & Activism       731K  \n",
       "247        News & Politics       731K  \n",
       "248          Entertainment       729K  \n",
       "249       Autos & Vehicles       726K  \n",
       "\n",
       "[250 rows x 5 columns]"
      ]
     },
     "execution_count": 7,
     "metadata": {},
     "output_type": "execute_result"
    }
   ],
   "source": [
    "df"
   ]
  },
  {
   "cell_type": "code",
   "execution_count": 8,
   "id": "999d8fb9",
   "metadata": {},
   "outputs": [],
   "source": [
    "df.drop([\"Top #\",\"Twitter\"],axis=1,inplace=True)"
   ]
  },
  {
   "cell_type": "code",
   "execution_count": 9,
   "id": "d065407c",
   "metadata": {},
   "outputs": [
    {
     "data": {
      "text/html": [
       "<div>\n",
       "<style scoped>\n",
       "    .dataframe tbody tr th:only-of-type {\n",
       "        vertical-align: middle;\n",
       "    }\n",
       "\n",
       "    .dataframe tbody tr th {\n",
       "        vertical-align: top;\n",
       "    }\n",
       "\n",
       "    .dataframe thead th {\n",
       "        text-align: right;\n",
       "    }\n",
       "</style>\n",
       "<table border=\"1\" class=\"dataframe\">\n",
       "  <thead>\n",
       "    <tr style=\"text-align: right;\">\n",
       "      <th></th>\n",
       "      <th>Channel Name</th>\n",
       "      <th>Category</th>\n",
       "      <th>Subscriber</th>\n",
       "    </tr>\n",
       "  </thead>\n",
       "  <tbody>\n",
       "    <tr>\n",
       "      <th>0</th>\n",
       "      <td>ARY Digital</td>\n",
       "      <td>Entertainment</td>\n",
       "      <td>19.2M</td>\n",
       "    </tr>\n",
       "    <tr>\n",
       "      <th>1</th>\n",
       "      <td>HAR PAL GEO</td>\n",
       "      <td>Entertainment</td>\n",
       "      <td>14.4M</td>\n",
       "    </tr>\n",
       "    <tr>\n",
       "      <th>2</th>\n",
       "      <td>TRT Ertugrul by PTV</td>\n",
       "      <td>Entertainment</td>\n",
       "      <td>12.3M</td>\n",
       "    </tr>\n",
       "    <tr>\n",
       "      <th>3</th>\n",
       "      <td>HUM TV</td>\n",
       "      <td>Entertainment</td>\n",
       "      <td>12.2M</td>\n",
       "    </tr>\n",
       "    <tr>\n",
       "      <th>4</th>\n",
       "      <td>Coke Studio</td>\n",
       "      <td>Music</td>\n",
       "      <td>9.82M</td>\n",
       "    </tr>\n",
       "    <tr>\n",
       "      <th>...</th>\n",
       "      <td>...</td>\n",
       "      <td>...</td>\n",
       "      <td>...</td>\n",
       "    </tr>\n",
       "    <tr>\n",
       "      <th>245</th>\n",
       "      <td>Masala Tv Recipes</td>\n",
       "      <td>Howto &amp; Style</td>\n",
       "      <td>734K</td>\n",
       "    </tr>\n",
       "    <tr>\n",
       "      <th>246</th>\n",
       "      <td>WWF - Pakistan</td>\n",
       "      <td>Nonprofits &amp; Activism</td>\n",
       "      <td>731K</td>\n",
       "    </tr>\n",
       "    <tr>\n",
       "      <th>247</th>\n",
       "      <td>AapNewsPK</td>\n",
       "      <td>News &amp; Politics</td>\n",
       "      <td>731K</td>\n",
       "    </tr>\n",
       "    <tr>\n",
       "      <th>248</th>\n",
       "      <td>Naeem aw Rameez</td>\n",
       "      <td>Entertainment</td>\n",
       "      <td>729K</td>\n",
       "    </tr>\n",
       "    <tr>\n",
       "      <th>249</th>\n",
       "      <td>Zawar Motors</td>\n",
       "      <td>Autos &amp; Vehicles</td>\n",
       "      <td>726K</td>\n",
       "    </tr>\n",
       "  </tbody>\n",
       "</table>\n",
       "<p>250 rows × 3 columns</p>\n",
       "</div>"
      ],
      "text/plain": [
       "            Channel Name               Category Subscriber\n",
       "0            ARY Digital          Entertainment      19.2M\n",
       "1            HAR PAL GEO          Entertainment      14.4M\n",
       "2    TRT Ertugrul by PTV          Entertainment      12.3M\n",
       "3                 HUM TV          Entertainment      12.2M\n",
       "4            Coke Studio                  Music      9.82M\n",
       "..                   ...                    ...        ...\n",
       "245    Masala Tv Recipes          Howto & Style       734K\n",
       "246       WWF - Pakistan  Nonprofits & Activism       731K\n",
       "247            AapNewsPK        News & Politics       731K\n",
       "248      Naeem aw Rameez          Entertainment       729K\n",
       "249         Zawar Motors       Autos & Vehicles       726K\n",
       "\n",
       "[250 rows x 3 columns]"
      ]
     },
     "execution_count": 9,
     "metadata": {},
     "output_type": "execute_result"
    }
   ],
   "source": [
    "df"
   ]
  },
  {
   "cell_type": "code",
   "execution_count": 10,
   "id": "e50fb181",
   "metadata": {},
   "outputs": [
    {
     "data": {
      "text/plain": [
       "Channel Name    0\n",
       "Category        0\n",
       "Subscriber      0\n",
       "dtype: int64"
      ]
     },
     "execution_count": 10,
     "metadata": {},
     "output_type": "execute_result"
    }
   ],
   "source": [
    "df.isnull().sum()"
   ]
  },
  {
   "cell_type": "code",
   "execution_count": 11,
   "id": "a4ff5f89",
   "metadata": {},
   "outputs": [
    {
     "data": {
      "text/plain": [
       "0"
      ]
     },
     "execution_count": 11,
     "metadata": {},
     "output_type": "execute_result"
    }
   ],
   "source": [
    "df['Channel Name'].duplicated().sum()"
   ]
  },
  {
   "cell_type": "code",
   "execution_count": 12,
   "id": "8ba62f64",
   "metadata": {},
   "outputs": [],
   "source": [
    "def value_to_no(x):\n",
    "    if type(x) == float or type(x) == int:\n",
    "        return x\n",
    "    if 'K' in x:\n",
    "        if len(x) > 1:\n",
    "            return float(x.replace('K', '')) * 1000\n",
    "        return 1000.0\n",
    "    if 'M' in x:\n",
    "        if len(x) > 1:\n",
    "            return float(x.replace('M', '')) * 1000000\n",
    "        return 1000000.0\n",
    "df['Subscriber']=df['Subscriber'].apply(value_to_no)\n",
    "    \n",
    "    "
   ]
  },
  {
   "cell_type": "code",
   "execution_count": 13,
   "id": "baaed395",
   "metadata": {},
   "outputs": [
    {
     "data": {
      "text/html": [
       "<div>\n",
       "<style scoped>\n",
       "    .dataframe tbody tr th:only-of-type {\n",
       "        vertical-align: middle;\n",
       "    }\n",
       "\n",
       "    .dataframe tbody tr th {\n",
       "        vertical-align: top;\n",
       "    }\n",
       "\n",
       "    .dataframe thead th {\n",
       "        text-align: right;\n",
       "    }\n",
       "</style>\n",
       "<table border=\"1\" class=\"dataframe\">\n",
       "  <thead>\n",
       "    <tr style=\"text-align: right;\">\n",
       "      <th></th>\n",
       "      <th>Channel Name</th>\n",
       "      <th>Category</th>\n",
       "      <th>Subscriber</th>\n",
       "    </tr>\n",
       "  </thead>\n",
       "  <tbody>\n",
       "    <tr>\n",
       "      <th>0</th>\n",
       "      <td>ARY Digital</td>\n",
       "      <td>Entertainment</td>\n",
       "      <td>19200000.0</td>\n",
       "    </tr>\n",
       "    <tr>\n",
       "      <th>1</th>\n",
       "      <td>HAR PAL GEO</td>\n",
       "      <td>Entertainment</td>\n",
       "      <td>14400000.0</td>\n",
       "    </tr>\n",
       "    <tr>\n",
       "      <th>2</th>\n",
       "      <td>TRT Ertugrul by PTV</td>\n",
       "      <td>Entertainment</td>\n",
       "      <td>12300000.0</td>\n",
       "    </tr>\n",
       "    <tr>\n",
       "      <th>3</th>\n",
       "      <td>HUM TV</td>\n",
       "      <td>Entertainment</td>\n",
       "      <td>12200000.0</td>\n",
       "    </tr>\n",
       "    <tr>\n",
       "      <th>4</th>\n",
       "      <td>Coke Studio</td>\n",
       "      <td>Music</td>\n",
       "      <td>9820000.0</td>\n",
       "    </tr>\n",
       "    <tr>\n",
       "      <th>5</th>\n",
       "      <td>Geo News</td>\n",
       "      <td>News &amp; Politics</td>\n",
       "      <td>8700000.0</td>\n",
       "    </tr>\n",
       "    <tr>\n",
       "      <th>6</th>\n",
       "      <td>AJ Official</td>\n",
       "      <td>Education</td>\n",
       "      <td>7220000.0</td>\n",
       "    </tr>\n",
       "    <tr>\n",
       "      <th>7</th>\n",
       "      <td>ARY News</td>\n",
       "      <td>News &amp; Politics</td>\n",
       "      <td>6780000.0</td>\n",
       "    </tr>\n",
       "    <tr>\n",
       "      <th>8</th>\n",
       "      <td>Islamic Teacher Official</td>\n",
       "      <td>Education</td>\n",
       "      <td>6430000.0</td>\n",
       "    </tr>\n",
       "    <tr>\n",
       "      <th>9</th>\n",
       "      <td>SAMAA TV</td>\n",
       "      <td>News &amp; Politics</td>\n",
       "      <td>6020000.0</td>\n",
       "    </tr>\n",
       "  </tbody>\n",
       "</table>\n",
       "</div>"
      ],
      "text/plain": [
       "               Channel Name         Category  Subscriber\n",
       "0               ARY Digital    Entertainment  19200000.0\n",
       "1               HAR PAL GEO    Entertainment  14400000.0\n",
       "2       TRT Ertugrul by PTV    Entertainment  12300000.0\n",
       "3                    HUM TV    Entertainment  12200000.0\n",
       "4               Coke Studio            Music   9820000.0\n",
       "5                  Geo News  News & Politics   8700000.0\n",
       "6               AJ Official        Education   7220000.0\n",
       "7                  ARY News  News & Politics   6780000.0\n",
       "8  Islamic Teacher Official        Education   6430000.0\n",
       "9                  SAMAA TV  News & Politics   6020000.0"
      ]
     },
     "execution_count": 13,
     "metadata": {},
     "output_type": "execute_result"
    }
   ],
   "source": [
    "df.head(10)"
   ]
  },
  {
   "cell_type": "code",
   "execution_count": 14,
   "id": "40ff2f8b",
   "metadata": {},
   "outputs": [
    {
     "data": {
      "text/plain": [
       "<AxesSubplot:title={'center':'Youtube Channel Has Subscriber more than 6M '}, xlabel='Channel Name', ylabel='Subscriber'>"
      ]
     },
     "execution_count": 14,
     "metadata": {},
     "output_type": "execute_result"
    },
    {
     "data": {
      "image/png": "[encoded data removed]",
      "text/plain": [
       "<Figure size 1080x504 with 1 Axes>"
      ]
     },
     "metadata": {
      "needs_background": "light"
     },
     "output_type": "display_data"
    }
   ],
   "source": [
    "plt.figure(figsize=(15,7))\n",
    "plt.title('Youtube Channel Has Subscriber more than 6M ')\n",
    "plt.xticks(rotation=60)\n",
    "sns.barplot(x='Channel Name',y='Subscriber',data=df.query('Subscriber > 6000000'))\n",
    "\n"
   ]
  },
  {
   "cell_type": "code",
   "execution_count": 15,
   "id": "e7873818",
   "metadata": {},
   "outputs": [
    {
     "data": {
      "image/png": "[encoded data removed]",
      "text/plain": [
       "<Figure size 432x288 with 1 Axes>"
      ]
     },
     "metadata": {},
     "output_type": "display_data"
    }
   ],
   "source": [
    "plt.axis('equal')\n",
    "plt.pie('Subscriber',labels='Channel Name',data=df.query('Subscriber>6000000'),radius=1.5,autopct='%1.2f%%')\n",
    "plt.show()"
   ]
  },
  {
   "cell_type": "code",
   "execution_count": 16,
   "id": "d759a39d",
   "metadata": {},
   "outputs": [
    {
     "data": {
      "text/plain": [
       "<AxesSubplot:title={'center':'Top 10 Pakistan Education Youtube Channel'}>"
      ]
     },
     "execution_count": 16,
     "metadata": {},
     "output_type": "execute_result"
    },
    {
     "data": {
      "image/png": "[encoded data removed]",
      "text/plain": [
       "<Figure size 1440x360 with 1 Axes>"
      ]
     },
     "metadata": {
      "needs_background": "light"
     },
     "output_type": "display_data"
    }
   ],
   "source": [
    "plt.figure(figsize=(20,5))\n",
    "plt.title('Top 10 Pakistan Education Youtube Channel')\n",
    "channels=df.query('Category==\"Education\"')\n",
    "Subscriber=list(channels['Subscriber'].head(10))\n",
    "Names=list(channels['Channel Name'].head(10))\n",
    "sns.barplot(x=Names,y=Subscriber)"
   ]
  },
  {
   "cell_type": "code",
   "execution_count": 17,
   "id": "a4d39404",
   "metadata": {},
   "outputs": [
    {
     "data": {
      "text/plain": [
       "<AxesSubplot:title={'center':'Top 10 Pakistan Youtube Entertainment Channel'}>"
      ]
     },
     "execution_count": 17,
     "metadata": {},
     "output_type": "execute_result"
    },
    {
     "data": {
      "image/png": "[encoded data removed]",
      "text/plain": [
       "<Figure size 1440x360 with 1 Axes>"
      ]
     },
     "metadata": {
      "needs_background": "light"
     },
     "output_type": "display_data"
    }
   ],
   "source": [
    "plt.figure(figsize=(20,5))\n",
    "plt.title('Top 10 Pakistan Youtube Entertainment Channel')\n",
    "channels=df.query('Category==\"Entertainment\"')\n",
    "Subscriber=list(channels['Subscriber'].head(10))\n",
    "Names=list(channels['Channel Name'].head(10))\n",
    "sns.barplot(x=Names,y=Subscriber)"
   ]
  },
  {
   "cell_type": "code",
   "execution_count": 18,
   "id": "60c01057",
   "metadata": {},
   "outputs": [
    {
     "data": {
      "text/plain": [
       "<AxesSubplot:title={'center':'Top 10 Pakistan Youtube News Channel'}>"
      ]
     },
     "execution_count": 18,
     "metadata": {},
     "output_type": "execute_result"
    },
    {
     "data": {
      "image/png": "[encoded data removed]",
      "text/plain": [
       "<Figure size 1440x360 with 1 Axes>"
      ]
     },
     "metadata": {
      "needs_background": "light"
     },
     "output_type": "display_data"
    }
   ],
   "source": [
    "plt.figure(figsize=(20,5))\n",
    "plt.title('Top 10 Pakistan Youtube News Channel')\n",
    "channels=df.query('Category==\"News & Politics\"')\n",
    "Subscriber=list(channels['Subscriber'].head(10))\n",
    "Names=list(channels['Channel Name'].head(10))\n",
    "sns.barplot(x=Names,y=Subscriber)"
   ]
  },
  {
   "cell_type": "code",
   "execution_count": 19,
   "id": "b1721fed",
   "metadata": {},
   "outputs": [
    {
     "data": {
      "text/plain": [
       "<AxesSubplot:title={'center':'Top 10 Pakistan Youtube News Channel'}>"
      ]
     },
     "execution_count": 19,
     "metadata": {},
     "output_type": "execute_result"
    },
    {
     "data": {
      "image/png": "[encoded data removed]",
      "text/plain": [
       "<Figure size 1440x360 with 1 Axes>"
      ]
     },
     "metadata": {
      "needs_background": "light"
     },
     "output_type": "display_data"
    }
   ],
   "source": [
    "plt.figure(figsize=(20,5))\n",
    "plt.title('Top 10 Pakistan Youtube News Channel')\n",
    "channels=df.query('Category==\"Music\"')\n",
    "Subscriber=list(channels['Subscriber'].head(10))\n",
    "Names=list(channels['Channel Name'].head(10))\n",
    "sns.barplot(x=Names,y=Subscriber)"
   ]
  },
  {
   "cell_type": "code",
   "execution_count": 20,
   "id": "435cf7df",
   "metadata": {},
   "outputs": [
    {
     "data": {
      "text/plain": [
       "<AxesSubplot:title={'center':'Top Pakistani Comedy youtube Channel'}>"
      ]
     },
     "execution_count": 20,
     "metadata": {},
     "output_type": "execute_result"
    },
    {
     "data": {
      "image/png": "[encoded data removed]",
      "text/plain": [
       "<Figure size 432x288 with 1 Axes>"
      ]
     },
     "metadata": {
      "needs_background": "light"
     },
     "output_type": "display_data"
    }
   ],
   "source": [
    "\n",
    "plt.title('Top Pakistani Comedy youtube Channel')\n",
    "channels=df.query('Category==\"Comedy\"')\n",
    "Subscriber=list(channels['Subscriber'])\n",
    "Names=list(channels['Channel Name'])\n",
    "sns.barplot(x=Names,y=Subscriber)"
   ]
  },
  {
   "cell_type": "code",
   "execution_count": 25,
   "id": "de33d1f1",
   "metadata": {},
   "outputs": [
    {
     "data": {
      "text/html": [
       "<div>\n",
       "<style scoped>\n",
       "    .dataframe tbody tr th:only-of-type {\n",
       "        vertical-align: middle;\n",
       "    }\n",
       "\n",
       "    .dataframe tbody tr th {\n",
       "        vertical-align: top;\n",
       "    }\n",
       "\n",
       "    .dataframe thead th {\n",
       "        text-align: right;\n",
       "    }\n",
       "</style>\n",
       "<table border=\"1\" class=\"dataframe\">\n",
       "  <thead>\n",
       "    <tr style=\"text-align: right;\">\n",
       "      <th></th>\n",
       "      <th>Channel Name</th>\n",
       "      <th>sum</th>\n",
       "    </tr>\n",
       "  </thead>\n",
       "  <tbody>\n",
       "    <tr>\n",
       "      <th>4</th>\n",
       "      <td>ARY Digital</td>\n",
       "      <td>19200000.0</td>\n",
       "    </tr>\n",
       "    <tr>\n",
       "      <th>73</th>\n",
       "      <td>HAR PAL GEO</td>\n",
       "      <td>14400000.0</td>\n",
       "    </tr>\n",
       "    <tr>\n",
       "      <th>201</th>\n",
       "      <td>TRT Ertugrul by PTV</td>\n",
       "      <td>12300000.0</td>\n",
       "    </tr>\n",
       "    <tr>\n",
       "      <th>76</th>\n",
       "      <td>HUM TV</td>\n",
       "      <td>12200000.0</td>\n",
       "    </tr>\n",
       "    <tr>\n",
       "      <th>38</th>\n",
       "      <td>Coke Studio</td>\n",
       "      <td>9820000.0</td>\n",
       "    </tr>\n",
       "    <tr>\n",
       "      <th>72</th>\n",
       "      <td>Geo News</td>\n",
       "      <td>8700000.0</td>\n",
       "    </tr>\n",
       "    <tr>\n",
       "      <th>2</th>\n",
       "      <td>AJ Official</td>\n",
       "      <td>7220000.0</td>\n",
       "    </tr>\n",
       "    <tr>\n",
       "      <th>6</th>\n",
       "      <td>ARY News</td>\n",
       "      <td>6780000.0</td>\n",
       "    </tr>\n",
       "    <tr>\n",
       "      <th>104</th>\n",
       "      <td>Islamic Teacher Official</td>\n",
       "      <td>6430000.0</td>\n",
       "    </tr>\n",
       "    <tr>\n",
       "      <th>182</th>\n",
       "      <td>SAMAA TV</td>\n",
       "      <td>6020000.0</td>\n",
       "    </tr>\n",
       "  </tbody>\n",
       "</table>\n",
       "</div>"
      ],
      "text/plain": [
       "                 Channel Name         sum\n",
       "4                 ARY Digital  19200000.0\n",
       "73                HAR PAL GEO  14400000.0\n",
       "201       TRT Ertugrul by PTV  12300000.0\n",
       "76                     HUM TV  12200000.0\n",
       "38                Coke Studio   9820000.0\n",
       "72                   Geo News   8700000.0\n",
       "2                 AJ Official   7220000.0\n",
       "6                    ARY News   6780000.0\n",
       "104  Islamic Teacher Official   6430000.0\n",
       "182                  SAMAA TV   6020000.0"
      ]
     },
     "execution_count": 25,
     "metadata": {},
     "output_type": "execute_result"
    }
   ],
   "source": [
    "Top_10_channel = df.groupby(\"Channel Name\")[\"Subscriber\"].agg([\"sum\"]).reset_index().sort_values(by=\"sum\",ascending=False).head(10)\n",
    "Top_10_channel"
   ]
  },
  {
   "cell_type": "code",
   "execution_count": 32,
   "id": "1bb4341d",
   "metadata": {},
   "outputs": [
    {
     "data": {
      "text/plain": [
       "<AxesSubplot:title={'center':'Top 10 Pakistan Youtube Channel'}, xlabel='Channel Name', ylabel='sum'>"
      ]
     },
     "execution_count": 32,
     "metadata": {},
     "output_type": "execute_result"
    },
    {
     "data": {
      "image/png": "[encoded data removed]",
      "text/plain": [
       "<Figure size 1440x360 with 1 Axes>"
      ]
     },
     "metadata": {
      "needs_background": "light"
     },
     "output_type": "display_data"
    }
   ],
   "source": [
    "plt.figure(figsize=(20,5))\n",
    "plt.title('Top 10 Pakistan Youtube Channel')\n",
    "sns.barplot(x=\"Channel Name\",y=\"sum\",data=Top_10_channel)"
   ]
  },
  {
   "cell_type": "code",
   "execution_count": null,
   "id": "3013a689",
   "metadata": {},
   "outputs": [],
   "source": []
  }
 ],
 "metadata": {
  "kernelspec": {
   "display_name": "Python 3",
   "language": "python",
   "name": "python3"
  },
  "language_info": {
   "codemirror_mode": {
    "name": "ipython",
    "version": 3
   },
   "file_extension": ".py",
   "mimetype": "text/x-python",
   "name": "python",
   "nbconvert_exporter": "python",
   "pygments_lexer": "ipython3",
   "version": "3.8.8"
  }
 },
 "nbformat": 4,
 "nbformat_minor": 5
}
